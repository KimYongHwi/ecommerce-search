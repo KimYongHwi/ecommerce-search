{
 "cells": [
  {
   "cell_type": "code",
   "outputs": [],
   "source": [
    "from datasets import load_dataset\n",
    "\n",
    "fashion = load_dataset(\"ashraq/fashion-product-images-small\", split=\"train\")"
   ],
   "metadata": {
    "collapsed": false,
    "ExecuteTime": {
     "end_time": "2024-06-22T10:03:04.797931Z",
     "start_time": "2024-06-22T10:02:59.087737Z"
    }
   },
   "id": "6d0cfa2bb4840999",
   "execution_count": 1
  },
  {
   "cell_type": "code",
   "outputs": [
    {
     "data": {
      "text/plain": "Dataset({\n    features: ['id', 'gender', 'masterCategory', 'subCategory', 'articleType', 'baseColour', 'season', 'year', 'usage', 'productDisplayName', 'image'],\n    num_rows: 44072\n})"
     },
     "execution_count": 2,
     "metadata": {},
     "output_type": "execute_result"
    }
   ],
   "source": [
    "fashion"
   ],
   "metadata": {
    "collapsed": false,
    "ExecuteTime": {
     "end_time": "2024-06-22T10:03:04.803487Z",
     "start_time": "2024-06-22T10:03:04.799226Z"
    }
   },
   "id": "764580aafe5eb458",
   "execution_count": 2
  },
  {
   "cell_type": "code",
   "outputs": [
    {
     "data": {
      "text/plain": "          id gender masterCategory subCategory            articleType  \\\n0      15970    Men        Apparel     Topwear                 Shirts   \n1      39386    Men        Apparel  Bottomwear                  Jeans   \n2      59263  Women    Accessories     Watches                Watches   \n3      21379    Men        Apparel  Bottomwear            Track Pants   \n4      53759    Men        Apparel     Topwear                Tshirts   \n...      ...    ...            ...         ...                    ...   \n44067  17036    Men       Footwear       Shoes           Casual Shoes   \n44068   6461    Men       Footwear  Flip Flops             Flip Flops   \n44069  18842    Men        Apparel     Topwear                Tshirts   \n44070  46694  Women  Personal Care   Fragrance  Perfume and Body Mist   \n44071  51623  Women    Accessories     Watches                Watches   \n\n      baseColour  season    year   usage  \\\n0      Navy Blue    Fall  2011.0  Casual   \n1           Blue  Summer  2012.0  Casual   \n2         Silver  Winter  2016.0  Casual   \n3          Black    Fall  2011.0  Casual   \n4           Grey  Summer  2012.0  Casual   \n...          ...     ...     ...     ...   \n44067      White  Summer  2013.0  Casual   \n44068        Red  Summer  2011.0  Casual   \n44069       Blue    Fall  2011.0  Casual   \n44070       Blue  Spring  2017.0  Casual   \n44071       Pink  Winter  2016.0  Casual   \n\n                                    productDisplayName  \n0                     Turtle Check Men Navy Blue Shirt  \n1                   Peter England Men Party Blue Jeans  \n2                             Titan Women Silver Watch  \n3        Manchester United Men Solid Black Track Pants  \n4                                Puma Men Grey T-shirt  \n...                                                ...  \n44067                        Gas Men Caddy Casual Shoe  \n44068               Lotto Men's Soccer Track Flip Flop  \n44069             Puma Men Graphic Stellar Blue Tshirt  \n44070                   Rasasi Women Blue Lady Perfume  \n44071  Fossil Women Pink Dial Chronograph Watch ES3050  \n\n[44072 rows x 10 columns]",
      "text/html": "<div>\n<style scoped>\n    .dataframe tbody tr th:only-of-type {\n        vertical-align: middle;\n    }\n\n    .dataframe tbody tr th {\n        vertical-align: top;\n    }\n\n    .dataframe thead th {\n        text-align: right;\n    }\n</style>\n<table border=\"1\" class=\"dataframe\">\n  <thead>\n    <tr style=\"text-align: right;\">\n      <th></th>\n      <th>id</th>\n      <th>gender</th>\n      <th>masterCategory</th>\n      <th>subCategory</th>\n      <th>articleType</th>\n      <th>baseColour</th>\n      <th>season</th>\n      <th>year</th>\n      <th>usage</th>\n      <th>productDisplayName</th>\n    </tr>\n  </thead>\n  <tbody>\n    <tr>\n      <th>0</th>\n      <td>15970</td>\n      <td>Men</td>\n      <td>Apparel</td>\n      <td>Topwear</td>\n      <td>Shirts</td>\n      <td>Navy Blue</td>\n      <td>Fall</td>\n      <td>2011.0</td>\n      <td>Casual</td>\n      <td>Turtle Check Men Navy Blue Shirt</td>\n    </tr>\n    <tr>\n      <th>1</th>\n      <td>39386</td>\n      <td>Men</td>\n      <td>Apparel</td>\n      <td>Bottomwear</td>\n      <td>Jeans</td>\n      <td>Blue</td>\n      <td>Summer</td>\n      <td>2012.0</td>\n      <td>Casual</td>\n      <td>Peter England Men Party Blue Jeans</td>\n    </tr>\n    <tr>\n      <th>2</th>\n      <td>59263</td>\n      <td>Women</td>\n      <td>Accessories</td>\n      <td>Watches</td>\n      <td>Watches</td>\n      <td>Silver</td>\n      <td>Winter</td>\n      <td>2016.0</td>\n      <td>Casual</td>\n      <td>Titan Women Silver Watch</td>\n    </tr>\n    <tr>\n      <th>3</th>\n      <td>21379</td>\n      <td>Men</td>\n      <td>Apparel</td>\n      <td>Bottomwear</td>\n      <td>Track Pants</td>\n      <td>Black</td>\n      <td>Fall</td>\n      <td>2011.0</td>\n      <td>Casual</td>\n      <td>Manchester United Men Solid Black Track Pants</td>\n    </tr>\n    <tr>\n      <th>4</th>\n      <td>53759</td>\n      <td>Men</td>\n      <td>Apparel</td>\n      <td>Topwear</td>\n      <td>Tshirts</td>\n      <td>Grey</td>\n      <td>Summer</td>\n      <td>2012.0</td>\n      <td>Casual</td>\n      <td>Puma Men Grey T-shirt</td>\n    </tr>\n    <tr>\n      <th>...</th>\n      <td>...</td>\n      <td>...</td>\n      <td>...</td>\n      <td>...</td>\n      <td>...</td>\n      <td>...</td>\n      <td>...</td>\n      <td>...</td>\n      <td>...</td>\n      <td>...</td>\n    </tr>\n    <tr>\n      <th>44067</th>\n      <td>17036</td>\n      <td>Men</td>\n      <td>Footwear</td>\n      <td>Shoes</td>\n      <td>Casual Shoes</td>\n      <td>White</td>\n      <td>Summer</td>\n      <td>2013.0</td>\n      <td>Casual</td>\n      <td>Gas Men Caddy Casual Shoe</td>\n    </tr>\n    <tr>\n      <th>44068</th>\n      <td>6461</td>\n      <td>Men</td>\n      <td>Footwear</td>\n      <td>Flip Flops</td>\n      <td>Flip Flops</td>\n      <td>Red</td>\n      <td>Summer</td>\n      <td>2011.0</td>\n      <td>Casual</td>\n      <td>Lotto Men's Soccer Track Flip Flop</td>\n    </tr>\n    <tr>\n      <th>44069</th>\n      <td>18842</td>\n      <td>Men</td>\n      <td>Apparel</td>\n      <td>Topwear</td>\n      <td>Tshirts</td>\n      <td>Blue</td>\n      <td>Fall</td>\n      <td>2011.0</td>\n      <td>Casual</td>\n      <td>Puma Men Graphic Stellar Blue Tshirt</td>\n    </tr>\n    <tr>\n      <th>44070</th>\n      <td>46694</td>\n      <td>Women</td>\n      <td>Personal Care</td>\n      <td>Fragrance</td>\n      <td>Perfume and Body Mist</td>\n      <td>Blue</td>\n      <td>Spring</td>\n      <td>2017.0</td>\n      <td>Casual</td>\n      <td>Rasasi Women Blue Lady Perfume</td>\n    </tr>\n    <tr>\n      <th>44071</th>\n      <td>51623</td>\n      <td>Women</td>\n      <td>Accessories</td>\n      <td>Watches</td>\n      <td>Watches</td>\n      <td>Pink</td>\n      <td>Winter</td>\n      <td>2016.0</td>\n      <td>Casual</td>\n      <td>Fossil Women Pink Dial Chronograph Watch ES3050</td>\n    </tr>\n  </tbody>\n</table>\n<p>44072 rows × 10 columns</p>\n</div>"
     },
     "execution_count": 3,
     "metadata": {},
     "output_type": "execute_result"
    }
   ],
   "source": [
    "fashion_df = fashion.to_pandas()\n",
    "fashion_df.drop(columns=['image'], inplace=True)\n",
    "fashion_df"
   ],
   "metadata": {
    "collapsed": false,
    "ExecuteTime": {
     "end_time": "2024-06-22T10:03:05.059202Z",
     "start_time": "2024-06-22T10:03:04.804481Z"
    }
   },
   "id": "1e595652b040be43",
   "execution_count": 3
  },
  {
   "cell_type": "code",
   "outputs": [],
   "source": [
    "import pandas as pd\n",
    "\n",
    "image_df = pd.read_csv(\"./images.csv\")"
   ],
   "metadata": {
    "collapsed": false,
    "ExecuteTime": {
     "end_time": "2024-06-22T10:03:05.115317Z",
     "start_time": "2024-06-22T10:03:05.060774Z"
    }
   },
   "id": "2503ec760476081c",
   "execution_count": 4
  },
  {
   "cell_type": "code",
   "outputs": [
    {
     "data": {
      "text/plain": "          id                                               link\n0      15970  http://assets.myntassets.com/v1/images/style/p...\n1      39386  http://assets.myntassets.com/v1/images/style/p...\n2      59263  http://assets.myntassets.com/v1/images/style/p...\n3      21379  http://assets.myntassets.com/v1/images/style/p...\n4      53759  http://assets.myntassets.com/v1/images/style/p...\n...      ...                                                ...\n44441  17036  http://assets.myntassets.com/v1/images/style/p...\n44442   6461  http://assets.myntassets.com/v1/images/style/p...\n44443  18842  http://assets.myntassets.com/v1/images/style/p...\n44444  46694  http://assets.myntassets.com/v1/images/style/p...\n44445  51623  http://assets.myntassets.com/assets/images/516...\n\n[44446 rows x 2 columns]",
      "text/html": "<div>\n<style scoped>\n    .dataframe tbody tr th:only-of-type {\n        vertical-align: middle;\n    }\n\n    .dataframe tbody tr th {\n        vertical-align: top;\n    }\n\n    .dataframe thead th {\n        text-align: right;\n    }\n</style>\n<table border=\"1\" class=\"dataframe\">\n  <thead>\n    <tr style=\"text-align: right;\">\n      <th></th>\n      <th>id</th>\n      <th>link</th>\n    </tr>\n  </thead>\n  <tbody>\n    <tr>\n      <th>0</th>\n      <td>15970</td>\n      <td>http://assets.myntassets.com/v1/images/style/p...</td>\n    </tr>\n    <tr>\n      <th>1</th>\n      <td>39386</td>\n      <td>http://assets.myntassets.com/v1/images/style/p...</td>\n    </tr>\n    <tr>\n      <th>2</th>\n      <td>59263</td>\n      <td>http://assets.myntassets.com/v1/images/style/p...</td>\n    </tr>\n    <tr>\n      <th>3</th>\n      <td>21379</td>\n      <td>http://assets.myntassets.com/v1/images/style/p...</td>\n    </tr>\n    <tr>\n      <th>4</th>\n      <td>53759</td>\n      <td>http://assets.myntassets.com/v1/images/style/p...</td>\n    </tr>\n    <tr>\n      <th>...</th>\n      <td>...</td>\n      <td>...</td>\n    </tr>\n    <tr>\n      <th>44441</th>\n      <td>17036</td>\n      <td>http://assets.myntassets.com/v1/images/style/p...</td>\n    </tr>\n    <tr>\n      <th>44442</th>\n      <td>6461</td>\n      <td>http://assets.myntassets.com/v1/images/style/p...</td>\n    </tr>\n    <tr>\n      <th>44443</th>\n      <td>18842</td>\n      <td>http://assets.myntassets.com/v1/images/style/p...</td>\n    </tr>\n    <tr>\n      <th>44444</th>\n      <td>46694</td>\n      <td>http://assets.myntassets.com/v1/images/style/p...</td>\n    </tr>\n    <tr>\n      <th>44445</th>\n      <td>51623</td>\n      <td>http://assets.myntassets.com/assets/images/516...</td>\n    </tr>\n  </tbody>\n</table>\n<p>44446 rows × 2 columns</p>\n</div>"
     },
     "execution_count": 5,
     "metadata": {},
     "output_type": "execute_result"
    }
   ],
   "source": [
    "image_df['id'] = image_df['filename'].apply(lambda x: int(x.split('.')[0]))\n",
    "image_df.drop(columns=['filename'], inplace=True)\n",
    "image_df = image_df[['id', 'link']]\n",
    "image_df"
   ],
   "metadata": {
    "collapsed": false,
    "ExecuteTime": {
     "end_time": "2024-06-22T10:03:05.138207Z",
     "start_time": "2024-06-22T10:03:05.116158Z"
    }
   },
   "id": "457e6ab441942b91",
   "execution_count": 5
  },
  {
   "cell_type": "code",
   "outputs": [
    {
     "data": {
      "text/plain": "          id gender masterCategory subCategory            articleType  \\\n0      15970    Men        Apparel     Topwear                 Shirts   \n1      39386    Men        Apparel  Bottomwear                  Jeans   \n2      59263  Women    Accessories     Watches                Watches   \n3      21379    Men        Apparel  Bottomwear            Track Pants   \n4      53759    Men        Apparel     Topwear                Tshirts   \n...      ...    ...            ...         ...                    ...   \n44067  17036    Men       Footwear       Shoes           Casual Shoes   \n44068   6461    Men       Footwear  Flip Flops             Flip Flops   \n44069  18842    Men        Apparel     Topwear                Tshirts   \n44070  46694  Women  Personal Care   Fragrance  Perfume and Body Mist   \n44071  51623  Women    Accessories     Watches                Watches   \n\n      baseColour  season    year   usage  \\\n0      Navy Blue    Fall  2011.0  Casual   \n1           Blue  Summer  2012.0  Casual   \n2         Silver  Winter  2016.0  Casual   \n3          Black    Fall  2011.0  Casual   \n4           Grey  Summer  2012.0  Casual   \n...          ...     ...     ...     ...   \n44067      White  Summer  2013.0  Casual   \n44068        Red  Summer  2011.0  Casual   \n44069       Blue    Fall  2011.0  Casual   \n44070       Blue  Spring  2017.0  Casual   \n44071       Pink  Winter  2016.0  Casual   \n\n                                    productDisplayName  \\\n0                     Turtle Check Men Navy Blue Shirt   \n1                   Peter England Men Party Blue Jeans   \n2                             Titan Women Silver Watch   \n3        Manchester United Men Solid Black Track Pants   \n4                                Puma Men Grey T-shirt   \n...                                                ...   \n44067                        Gas Men Caddy Casual Shoe   \n44068               Lotto Men's Soccer Track Flip Flop   \n44069             Puma Men Graphic Stellar Blue Tshirt   \n44070                   Rasasi Women Blue Lady Perfume   \n44071  Fossil Women Pink Dial Chronograph Watch ES3050   \n\n                                                    link  \n0      http://assets.myntassets.com/v1/images/style/p...  \n1      http://assets.myntassets.com/v1/images/style/p...  \n2      http://assets.myntassets.com/v1/images/style/p...  \n3      http://assets.myntassets.com/v1/images/style/p...  \n4      http://assets.myntassets.com/v1/images/style/p...  \n...                                                  ...  \n44067  http://assets.myntassets.com/v1/images/style/p...  \n44068  http://assets.myntassets.com/v1/images/style/p...  \n44069  http://assets.myntassets.com/v1/images/style/p...  \n44070  http://assets.myntassets.com/v1/images/style/p...  \n44071  http://assets.myntassets.com/assets/images/516...  \n\n[44072 rows x 11 columns]",
      "text/html": "<div>\n<style scoped>\n    .dataframe tbody tr th:only-of-type {\n        vertical-align: middle;\n    }\n\n    .dataframe tbody tr th {\n        vertical-align: top;\n    }\n\n    .dataframe thead th {\n        text-align: right;\n    }\n</style>\n<table border=\"1\" class=\"dataframe\">\n  <thead>\n    <tr style=\"text-align: right;\">\n      <th></th>\n      <th>id</th>\n      <th>gender</th>\n      <th>masterCategory</th>\n      <th>subCategory</th>\n      <th>articleType</th>\n      <th>baseColour</th>\n      <th>season</th>\n      <th>year</th>\n      <th>usage</th>\n      <th>productDisplayName</th>\n      <th>link</th>\n    </tr>\n  </thead>\n  <tbody>\n    <tr>\n      <th>0</th>\n      <td>15970</td>\n      <td>Men</td>\n      <td>Apparel</td>\n      <td>Topwear</td>\n      <td>Shirts</td>\n      <td>Navy Blue</td>\n      <td>Fall</td>\n      <td>2011.0</td>\n      <td>Casual</td>\n      <td>Turtle Check Men Navy Blue Shirt</td>\n      <td>http://assets.myntassets.com/v1/images/style/p...</td>\n    </tr>\n    <tr>\n      <th>1</th>\n      <td>39386</td>\n      <td>Men</td>\n      <td>Apparel</td>\n      <td>Bottomwear</td>\n      <td>Jeans</td>\n      <td>Blue</td>\n      <td>Summer</td>\n      <td>2012.0</td>\n      <td>Casual</td>\n      <td>Peter England Men Party Blue Jeans</td>\n      <td>http://assets.myntassets.com/v1/images/style/p...</td>\n    </tr>\n    <tr>\n      <th>2</th>\n      <td>59263</td>\n      <td>Women</td>\n      <td>Accessories</td>\n      <td>Watches</td>\n      <td>Watches</td>\n      <td>Silver</td>\n      <td>Winter</td>\n      <td>2016.0</td>\n      <td>Casual</td>\n      <td>Titan Women Silver Watch</td>\n      <td>http://assets.myntassets.com/v1/images/style/p...</td>\n    </tr>\n    <tr>\n      <th>3</th>\n      <td>21379</td>\n      <td>Men</td>\n      <td>Apparel</td>\n      <td>Bottomwear</td>\n      <td>Track Pants</td>\n      <td>Black</td>\n      <td>Fall</td>\n      <td>2011.0</td>\n      <td>Casual</td>\n      <td>Manchester United Men Solid Black Track Pants</td>\n      <td>http://assets.myntassets.com/v1/images/style/p...</td>\n    </tr>\n    <tr>\n      <th>4</th>\n      <td>53759</td>\n      <td>Men</td>\n      <td>Apparel</td>\n      <td>Topwear</td>\n      <td>Tshirts</td>\n      <td>Grey</td>\n      <td>Summer</td>\n      <td>2012.0</td>\n      <td>Casual</td>\n      <td>Puma Men Grey T-shirt</td>\n      <td>http://assets.myntassets.com/v1/images/style/p...</td>\n    </tr>\n    <tr>\n      <th>...</th>\n      <td>...</td>\n      <td>...</td>\n      <td>...</td>\n      <td>...</td>\n      <td>...</td>\n      <td>...</td>\n      <td>...</td>\n      <td>...</td>\n      <td>...</td>\n      <td>...</td>\n      <td>...</td>\n    </tr>\n    <tr>\n      <th>44067</th>\n      <td>17036</td>\n      <td>Men</td>\n      <td>Footwear</td>\n      <td>Shoes</td>\n      <td>Casual Shoes</td>\n      <td>White</td>\n      <td>Summer</td>\n      <td>2013.0</td>\n      <td>Casual</td>\n      <td>Gas Men Caddy Casual Shoe</td>\n      <td>http://assets.myntassets.com/v1/images/style/p...</td>\n    </tr>\n    <tr>\n      <th>44068</th>\n      <td>6461</td>\n      <td>Men</td>\n      <td>Footwear</td>\n      <td>Flip Flops</td>\n      <td>Flip Flops</td>\n      <td>Red</td>\n      <td>Summer</td>\n      <td>2011.0</td>\n      <td>Casual</td>\n      <td>Lotto Men's Soccer Track Flip Flop</td>\n      <td>http://assets.myntassets.com/v1/images/style/p...</td>\n    </tr>\n    <tr>\n      <th>44069</th>\n      <td>18842</td>\n      <td>Men</td>\n      <td>Apparel</td>\n      <td>Topwear</td>\n      <td>Tshirts</td>\n      <td>Blue</td>\n      <td>Fall</td>\n      <td>2011.0</td>\n      <td>Casual</td>\n      <td>Puma Men Graphic Stellar Blue Tshirt</td>\n      <td>http://assets.myntassets.com/v1/images/style/p...</td>\n    </tr>\n    <tr>\n      <th>44070</th>\n      <td>46694</td>\n      <td>Women</td>\n      <td>Personal Care</td>\n      <td>Fragrance</td>\n      <td>Perfume and Body Mist</td>\n      <td>Blue</td>\n      <td>Spring</td>\n      <td>2017.0</td>\n      <td>Casual</td>\n      <td>Rasasi Women Blue Lady Perfume</td>\n      <td>http://assets.myntassets.com/v1/images/style/p...</td>\n    </tr>\n    <tr>\n      <th>44071</th>\n      <td>51623</td>\n      <td>Women</td>\n      <td>Accessories</td>\n      <td>Watches</td>\n      <td>Watches</td>\n      <td>Pink</td>\n      <td>Winter</td>\n      <td>2016.0</td>\n      <td>Casual</td>\n      <td>Fossil Women Pink Dial Chronograph Watch ES3050</td>\n      <td>http://assets.myntassets.com/assets/images/516...</td>\n    </tr>\n  </tbody>\n</table>\n<p>44072 rows × 11 columns</p>\n</div>"
     },
     "execution_count": 6,
     "metadata": {},
     "output_type": "execute_result"
    }
   ],
   "source": [
    "products_df = pd.merge(left=fashion_df, right=image_df, on='id', how='inner')\n",
    "products_df"
   ],
   "metadata": {
    "collapsed": false,
    "ExecuteTime": {
     "end_time": "2024-06-22T10:03:05.153317Z",
     "start_time": "2024-06-22T10:03:05.139207Z"
    }
   },
   "id": "c40064f006c5528d",
   "execution_count": 6
  },
  {
   "cell_type": "code",
   "outputs": [
    {
     "data": {
      "text/plain": "44072"
     },
     "execution_count": 7,
     "metadata": {},
     "output_type": "execute_result"
    }
   ],
   "source": [
    "len(products_df)"
   ],
   "metadata": {
    "collapsed": false,
    "ExecuteTime": {
     "end_time": "2024-06-22T10:03:05.156372Z",
     "start_time": "2024-06-22T10:03:05.154137Z"
    }
   },
   "id": "5f22896f8b1a9813",
   "execution_count": 7
  },
  {
   "cell_type": "code",
   "outputs": [],
   "source": [
    "products_df.to_csv('../publisher/src/main/resources/products/fashion-product-images-small.csv', index=False)"
   ],
   "metadata": {
    "collapsed": false,
    "ExecuteTime": {
     "end_time": "2024-06-22T10:03:06.160629Z",
     "start_time": "2024-06-22T10:03:05.830765Z"
    }
   },
   "id": "4362607f68f0b1d5",
   "execution_count": 8
  }
 ],
 "metadata": {
  "kernelspec": {
   "display_name": "Python 3",
   "language": "python",
   "name": "python3"
  },
  "language_info": {
   "codemirror_mode": {
    "name": "ipython",
    "version": 2
   },
   "file_extension": ".py",
   "mimetype": "text/x-python",
   "name": "python",
   "nbconvert_exporter": "python",
   "pygments_lexer": "ipython2",
   "version": "2.7.6"
  }
 },
 "nbformat": 4,
 "nbformat_minor": 5
}
