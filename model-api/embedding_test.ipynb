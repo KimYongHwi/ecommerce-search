{
 "cells": [
  {
   "cell_type": "code",
   "execution_count": 21,
   "id": "initial_id",
   "metadata": {
    "collapsed": true,
    "ExecuteTime": {
     "end_time": "2024-12-14T06:14:36.562327Z",
     "start_time": "2024-12-14T06:14:36.560122Z"
    }
   },
   "outputs": [],
   "source": [
    "from sentence_transformers import SentenceTransformer\n",
    "from laser_encoders import LaserEncoderPipeline\n",
    "from transformers import AutoModel, AutoTokenizer\n",
    "from accelerate import Accelerator\n",
    "import torch"
   ]
  },
  {
   "cell_type": "code",
   "outputs": [],
   "source": [
    "accelerator = Accelerator()\n",
    "device = accelerator.device"
   ],
   "metadata": {
    "collapsed": false,
    "ExecuteTime": {
     "end_time": "2024-12-14T06:12:54.969463Z",
     "start_time": "2024-12-14T06:12:54.920788Z"
    }
   },
   "id": "c4c748e1ab7c9f21",
   "execution_count": 12
  },
  {
   "cell_type": "code",
   "outputs": [],
   "source": [
    "sentences = [\"This is an example sentence\", \"Each sentence is converted\"]"
   ],
   "metadata": {
    "collapsed": false,
    "ExecuteTime": {
     "end_time": "2024-12-14T06:12:55.709294Z",
     "start_time": "2024-12-14T06:12:55.705566Z"
    }
   },
   "id": "966ce35e193af754",
   "execution_count": 13
  },
  {
   "cell_type": "code",
   "outputs": [
    {
     "name": "stdout",
     "output_type": "stream",
     "text": [
      "2024-12-14 15:13:45,020 | INFO | sentence_transformers.SentenceTransformer | Use pytorch device_name: mps\n",
      "2024-12-14 15:13:45,020 | INFO | sentence_transformers.SentenceTransformer | Load pretrained SentenceTransformer: sentence-transformers/distiluse-base-multilingual-cased-v2\n",
      "2024-12-14 15:13:48,651 | INFO | laser_encoders.download_models |  - laser2.spm already downloaded\n",
      "2024-12-14 15:13:48,694 | INFO | laser_encoders.download_models |  - laser2.pt already downloaded\n",
      "2024-12-14 15:13:48,694 | INFO | laser_encoders.download_models |  - laser2.spm already downloaded\n",
      "2024-12-14 15:13:48,694 | INFO | laser_encoders.download_models |  - laser2.cvocab already downloaded\n"
     ]
    },
    {
     "data": {
      "text/plain": "XLMRobertaModel(\n  (embeddings): XLMRobertaEmbeddings(\n    (word_embeddings): Embedding(250002, 768, padding_idx=1)\n    (position_embeddings): Embedding(514, 768, padding_idx=1)\n    (token_type_embeddings): Embedding(1, 768)\n    (LayerNorm): LayerNorm((768,), eps=1e-05, elementwise_affine=True)\n    (dropout): Dropout(p=0.1, inplace=False)\n  )\n  (encoder): XLMRobertaEncoder(\n    (layer): ModuleList(\n      (0-11): 12 x XLMRobertaLayer(\n        (attention): XLMRobertaAttention(\n          (self): XLMRobertaSelfAttention(\n            (query): Linear(in_features=768, out_features=768, bias=True)\n            (key): Linear(in_features=768, out_features=768, bias=True)\n            (value): Linear(in_features=768, out_features=768, bias=True)\n            (dropout): Dropout(p=0.1, inplace=False)\n          )\n          (output): XLMRobertaSelfOutput(\n            (dense): Linear(in_features=768, out_features=768, bias=True)\n            (LayerNorm): LayerNorm((768,), eps=1e-05, elementwise_affine=True)\n            (dropout): Dropout(p=0.1, inplace=False)\n          )\n        )\n        (intermediate): XLMRobertaIntermediate(\n          (dense): Linear(in_features=768, out_features=3072, bias=True)\n          (intermediate_act_fn): GELUActivation()\n        )\n        (output): XLMRobertaOutput(\n          (dense): Linear(in_features=3072, out_features=768, bias=True)\n          (LayerNorm): LayerNorm((768,), eps=1e-05, elementwise_affine=True)\n          (dropout): Dropout(p=0.1, inplace=False)\n        )\n      )\n    )\n  )\n  (pooler): XLMRobertaPooler(\n    (dense): Linear(in_features=768, out_features=768, bias=True)\n    (activation): Tanh()\n  )\n)"
     },
     "execution_count": 17,
     "metadata": {},
     "output_type": "execute_result"
    }
   ],
   "source": [
    "distiluse_model = SentenceTransformer('sentence-transformers/distiluse-base-multilingual-cased-v2').to(device)\n",
    "laser_encoder = LaserEncoderPipeline(lang=\"eng_Latn\") # 1024\n",
    "e5_tokenizer = AutoTokenizer.from_pretrained('intfloat/multilingual-e5-base')\n",
    "e5_model = AutoModel.from_pretrained('intfloat/multilingual-e5-base').to(device)\n",
    "e5_model.eval()"
   ],
   "metadata": {
    "collapsed": false,
    "ExecuteTime": {
     "end_time": "2024-12-14T06:13:53.099253Z",
     "start_time": "2024-12-14T06:13:45.019377Z"
    }
   },
   "id": "627f4fb15c9b5521",
   "execution_count": 17
  },
  {
   "cell_type": "code",
   "outputs": [],
   "source": [
    "laser_embedding = laser_encoder.encode_sentences(sentences)"
   ],
   "metadata": {
    "collapsed": false,
    "ExecuteTime": {
     "end_time": "2024-12-13T05:32:05.801406Z",
     "start_time": "2024-12-13T05:32:05.707642Z"
    }
   },
   "id": "cda50a5558e9bdb9",
   "execution_count": 6
  },
  {
   "cell_type": "code",
   "outputs": [
    {
     "data": {
      "text/plain": "Batches:   0%|          | 0/1 [00:00<?, ?it/s]",
      "application/vnd.jupyter.widget-view+json": {
       "version_major": 2,
       "version_minor": 0,
       "model_id": "877ce94495884604abb1f54d9822c375"
      }
     },
     "metadata": {},
     "output_type": "display_data"
    }
   ],
   "source": [
    "distiluse_embeddings = distiluse_model.encode(sentences)"
   ],
   "metadata": {
    "collapsed": false,
    "ExecuteTime": {
     "end_time": "2024-12-14T06:13:56.976686Z",
     "start_time": "2024-12-14T06:13:54.979771Z"
    }
   },
   "id": "608b3169369f801e",
   "execution_count": 18
  },
  {
   "cell_type": "code",
   "outputs": [
    {
     "ename": "NameError",
     "evalue": "name 'laser_embedding' is not defined",
     "output_type": "error",
     "traceback": [
      "\u001B[0;31m---------------------------------------------------------------------------\u001B[0m",
      "\u001B[0;31mNameError\u001B[0m                                 Traceback (most recent call last)",
      "Cell \u001B[0;32mIn[19], line 1\u001B[0m\n\u001B[0;32m----> 1\u001B[0m \u001B[38;5;28mprint\u001B[39m(\u001B[43mlaser_embedding\u001B[49m\u001B[38;5;241m.\u001B[39mshape)\n",
      "\u001B[0;31mNameError\u001B[0m: name 'laser_embedding' is not defined"
     ]
    }
   ],
   "source": [
    "print(laser_embedding.shape)"
   ],
   "metadata": {
    "collapsed": false,
    "ExecuteTime": {
     "end_time": "2024-12-14T06:14:10.656926Z",
     "start_time": "2024-12-14T06:14:10.611005Z"
    }
   },
   "id": "a9e89749cb69a26c",
   "execution_count": 19
  },
  {
   "cell_type": "code",
   "outputs": [
    {
     "name": "stdout",
     "output_type": "stream",
     "text": [
      "(2, 512)\n"
     ]
    }
   ],
   "source": [
    "print(distiluse_embeddings.shape)"
   ],
   "metadata": {
    "collapsed": false,
    "ExecuteTime": {
     "end_time": "2024-12-14T06:14:11.455574Z",
     "start_time": "2024-12-14T06:14:11.452557Z"
    }
   },
   "id": "becd40c75ad8abce",
   "execution_count": 20
  },
  {
   "cell_type": "code",
   "outputs": [],
   "source": [
    "def e5_embed(docs: list[str]) -> list[list[float]]:\n",
    "    docs = [f\"passage: {d}\" for d in docs]\n",
    "    tokens = e5_tokenizer(docs, padding=True, max_length=512, truncation=True, return_tensors=\"pt\").to(device)\n",
    "    with torch.no_grad():\n",
    "        out = e5_model(**tokens)\n",
    "        last_hidden = out.last_hidden_state.masked_fill(\n",
    "            ~tokens[\"attention_mask\"][..., None].bool(), 0.0\n",
    "        )\n",
    "        doc_embeds = last_hidden.sum(dim=1) / \\\n",
    "            tokens[\"attention_mask\"].sum(dim=1)[..., None]\n",
    "\n",
    "    return doc_embeds.cpu().numpy()"
   ],
   "metadata": {
    "collapsed": false
   },
   "id": "9aea12d43f43a0a",
   "execution_count": null
  },
  {
   "cell_type": "code",
   "outputs": [],
   "source": [
    "e5_embeddings = e5_embed(sentences)"
   ],
   "metadata": {
    "collapsed": false
   },
   "id": "bbc4605df9d303fe",
   "execution_count": null
  },
  {
   "cell_type": "code",
   "outputs": [],
   "source": [
    "e5_embeddings.shape"
   ],
   "metadata": {
    "collapsed": false
   },
   "id": "f4772dc7eae30cf1",
   "execution_count": null
  }
 ],
 "metadata": {
  "kernelspec": {
   "display_name": "Python 3",
   "language": "python",
   "name": "python3"
  },
  "language_info": {
   "codemirror_mode": {
    "name": "ipython",
    "version": 2
   },
   "file_extension": ".py",
   "mimetype": "text/x-python",
   "name": "python",
   "nbconvert_exporter": "python",
   "pygments_lexer": "ipython2",
   "version": "2.7.6"
  }
 },
 "nbformat": 4,
 "nbformat_minor": 5
}
